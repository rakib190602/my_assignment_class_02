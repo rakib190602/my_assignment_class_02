{
 "cells": [
  {
   "cell_type": "code",
   "execution_count": 1,
   "id": "eacc6785",
   "metadata": {},
   "outputs": [
    {
     "name": "stdout",
     "output_type": "stream",
     "text": [
      "hello world\n"
     ]
    }
   ],
   "source": [
    "print('hello world')"
   ]
  },
  {
   "cell_type": "code",
   "execution_count": 2,
   "id": "33806c27",
   "metadata": {},
   "outputs": [
    {
     "name": "stdout",
     "output_type": "stream",
     "text": [
      "100\n"
     ]
    }
   ],
   "source": [
    "print(100)"
   ]
  },
  {
   "cell_type": "code",
   "execution_count": 3,
   "id": "52f4cc71",
   "metadata": {
    "scrolled": true
   },
   "outputs": [
    {
     "name": "stdout",
     "output_type": "stream",
     "text": [
      "rakib\n"
     ]
    }
   ],
   "source": [
    "print('rakib')"
   ]
  },
  {
   "cell_type": "code",
   "execution_count": 4,
   "id": "98173bb7",
   "metadata": {},
   "outputs": [
    {
     "data": {
      "text/plain": [
       "str"
      ]
     },
     "execution_count": 4,
     "metadata": {},
     "output_type": "execute_result"
    }
   ],
   "source": [
    "type('rakib')"
   ]
  },
  {
   "cell_type": "code",
   "execution_count": 5,
   "id": "517290e9",
   "metadata": {},
   "outputs": [],
   "source": [
    "x = \"rakib\"\n",
    "y = \"ahmmed\"\n",
    "z = x + y\n",
    "z1 = x,y"
   ]
  },
  {
   "cell_type": "code",
   "execution_count": 6,
   "id": "031c8674",
   "metadata": {},
   "outputs": [
    {
     "name": "stdout",
     "output_type": "stream",
     "text": [
      "('rakib', 'ahmmed')\n"
     ]
    }
   ],
   "source": [
    "print(z1)"
   ]
  },
  {
   "cell_type": "code",
   "execution_count": 7,
   "id": "1611ea2d",
   "metadata": {},
   "outputs": [],
   "source": [
    "x = 'rakib'\n",
    "xy = ' '\n",
    "y = 'ahmmed'\n",
    "\n",
    "z = x+xy+y"
   ]
  },
  {
   "cell_type": "code",
   "execution_count": 8,
   "id": "c36d86be",
   "metadata": {},
   "outputs": [
    {
     "data": {
      "text/plain": [
       "'rakib ahmmed'"
      ]
     },
     "execution_count": 8,
     "metadata": {},
     "output_type": "execute_result"
    }
   ],
   "source": [
    "z"
   ]
  },
  {
   "cell_type": "code",
   "execution_count": 9,
   "id": "963c007e",
   "metadata": {},
   "outputs": [
    {
     "name": "stdout",
     "output_type": "stream",
     "text": [
      "rakib ahmmed rakib ahmmed\n"
     ]
    }
   ],
   "source": [
    "print('rakib ahmmed','rakib ahmmed')"
   ]
  },
  {
   "cell_type": "code",
   "execution_count": 10,
   "id": "7b4301d2",
   "metadata": {},
   "outputs": [
    {
     "name": "stdout",
     "output_type": "stream",
     "text": [
      "rakib ahmmed/rakib ahmmed\n"
     ]
    }
   ],
   "source": [
    "print('rakib ahmmed','rakib ahmmed', sep='/')"
   ]
  },
  {
   "cell_type": "code",
   "execution_count": 11,
   "id": "a0dc94a4",
   "metadata": {},
   "outputs": [
    {
     "data": {
      "text/plain": [
       "('rakib', 'ahmmed', 'talukder')"
      ]
     },
     "execution_count": 11,
     "metadata": {},
     "output_type": "execute_result"
    }
   ],
   "source": [
    "x = \"rakib\"\n",
    "y = \"ahmmed\"\n",
    "z = \"talukder\"\n",
    "x,y,z\n"
   ]
  },
  {
   "cell_type": "code",
   "execution_count": 12,
   "id": "3de50fa7",
   "metadata": {},
   "outputs": [
    {
     "data": {
      "text/plain": [
       "(10, 20, 30)"
      ]
     },
     "execution_count": 12,
     "metadata": {},
     "output_type": "execute_result"
    }
   ],
   "source": [
    "x = 10\n",
    "y = 20\n",
    "z = 30\n",
    "x,y,z"
   ]
  },
  {
   "cell_type": "code",
   "execution_count": 13,
   "id": "ac3e0c65",
   "metadata": {},
   "outputs": [],
   "source": [
    " Total =x+y+z"
   ]
  },
  {
   "cell_type": "code",
   "execution_count": 14,
   "id": "9b2dd5cc",
   "metadata": {},
   "outputs": [
    {
     "data": {
      "text/plain": [
       "60"
      ]
     },
     "execution_count": 14,
     "metadata": {},
     "output_type": "execute_result"
    }
   ],
   "source": [
    "Total"
   ]
  },
  {
   "cell_type": "markdown",
   "id": "ab7531a0",
   "metadata": {},
   "source": [
    "# Variable in python"
   ]
  },
  {
   "cell_type": "code",
   "execution_count": 15,
   "id": "ae87e302",
   "metadata": {},
   "outputs": [],
   "source": [
    "var = 100"
   ]
  },
  {
   "cell_type": "code",
   "execution_count": 16,
   "id": "95fb0037",
   "metadata": {},
   "outputs": [
    {
     "data": {
      "text/plain": [
       "100"
      ]
     },
     "execution_count": 16,
     "metadata": {},
     "output_type": "execute_result"
    }
   ],
   "source": [
    "var"
   ]
  },
  {
   "cell_type": "code",
   "execution_count": 17,
   "id": "4a218303",
   "metadata": {},
   "outputs": [
    {
     "data": {
      "text/plain": [
       "10"
      ]
     },
     "execution_count": 17,
     "metadata": {},
     "output_type": "execute_result"
    }
   ],
   "source": [
    "x"
   ]
  },
  {
   "cell_type": "code",
   "execution_count": 18,
   "id": "1dea2e22",
   "metadata": {},
   "outputs": [
    {
     "data": {
      "text/plain": [
       "1000"
      ]
     },
     "execution_count": 18,
     "metadata": {},
     "output_type": "execute_result"
    }
   ],
   "source": [
    "x=1000\n",
    "x"
   ]
  },
  {
   "cell_type": "code",
   "execution_count": 19,
   "id": "ec7c8d24",
   "metadata": {},
   "outputs": [
    {
     "name": "stdout",
     "output_type": "stream",
     "text": [
      "1000\n"
     ]
    }
   ],
   "source": [
    "print(x)"
   ]
  },
  {
   "cell_type": "code",
   "execution_count": 20,
   "id": "a796958b",
   "metadata": {},
   "outputs": [
    {
     "data": {
      "text/plain": [
       "1100"
      ]
     },
     "execution_count": 20,
     "metadata": {},
     "output_type": "execute_result"
    }
   ],
   "source": [
    "var= var+x\n",
    "var"
   ]
  },
  {
   "cell_type": "code",
   "execution_count": 21,
   "id": "83865a9a",
   "metadata": {},
   "outputs": [
    {
     "data": {
      "text/plain": [
       "2537790042640"
      ]
     },
     "execution_count": 21,
     "metadata": {},
     "output_type": "execute_result"
    }
   ],
   "source": [
    "id(var+x)"
   ]
  },
  {
   "cell_type": "code",
   "execution_count": 22,
   "id": "230840f4",
   "metadata": {},
   "outputs": [
    {
     "data": {
      "text/plain": [
       "2537790042352"
      ]
     },
     "execution_count": 22,
     "metadata": {},
     "output_type": "execute_result"
    }
   ],
   "source": [
    "id(var)"
   ]
  },
  {
   "cell_type": "code",
   "execution_count": 23,
   "id": "1f497eae",
   "metadata": {},
   "outputs": [
    {
     "data": {
      "text/plain": [
       "2100"
      ]
     },
     "execution_count": 23,
     "metadata": {},
     "output_type": "execute_result"
    }
   ],
   "source": [
    "var+x"
   ]
  },
  {
   "cell_type": "code",
   "execution_count": 24,
   "id": "4528a8ad",
   "metadata": {},
   "outputs": [
    {
     "data": {
      "text/plain": [
       "2100"
      ]
     },
     "execution_count": 24,
     "metadata": {},
     "output_type": "execute_result"
    }
   ],
   "source": [
    "var+x"
   ]
  },
  {
   "cell_type": "code",
   "execution_count": 25,
   "id": "18b1d17e",
   "metadata": {},
   "outputs": [
    {
     "data": {
      "text/plain": [
       "1100"
      ]
     },
     "execution_count": 25,
     "metadata": {},
     "output_type": "execute_result"
    }
   ],
   "source": [
    "var"
   ]
  },
  {
   "cell_type": "code",
   "execution_count": 26,
   "id": "9bd18113",
   "metadata": {},
   "outputs": [],
   "source": [
    "x=1100"
   ]
  },
  {
   "cell_type": "code",
   "execution_count": 27,
   "id": "a2a573ab",
   "metadata": {},
   "outputs": [
    {
     "data": {
      "text/plain": [
       "2537790043216"
      ]
     },
     "execution_count": 27,
     "metadata": {},
     "output_type": "execute_result"
    }
   ],
   "source": [
    "id(x)\n"
   ]
  },
  {
   "cell_type": "code",
   "execution_count": 28,
   "id": "e98f2a6f",
   "metadata": {},
   "outputs": [
    {
     "data": {
      "text/plain": [
       "2537790042352"
      ]
     },
     "execution_count": 28,
     "metadata": {},
     "output_type": "execute_result"
    }
   ],
   "source": [
    "id(var)"
   ]
  },
  {
   "cell_type": "code",
   "execution_count": 29,
   "id": "b95bffd7",
   "metadata": {},
   "outputs": [
    {
     "name": "stdout",
     "output_type": "stream",
     "text": [
      "1100\n",
      "1100\n"
     ]
    }
   ],
   "source": [
    "print(x)\n",
    "print(var)"
   ]
  },
  {
   "cell_type": "code",
   "execution_count": 30,
   "id": "4ce7e256",
   "metadata": {},
   "outputs": [],
   "source": [
    "#Maybe the value is same but there address is difference"
   ]
  },
  {
   "cell_type": "code",
   "execution_count": 31,
   "id": "ca7c95ac",
   "metadata": {},
   "outputs": [],
   "source": [
    "x='abc'\n",
    "y='abc'\n"
   ]
  },
  {
   "cell_type": "code",
   "execution_count": 32,
   "id": "dbddeed1",
   "metadata": {},
   "outputs": [
    {
     "data": {
      "text/plain": [
       "2537692459504"
      ]
     },
     "execution_count": 32,
     "metadata": {},
     "output_type": "execute_result"
    }
   ],
   "source": [
    "id(x)"
   ]
  },
  {
   "cell_type": "code",
   "execution_count": 33,
   "id": "83a2afb1",
   "metadata": {},
   "outputs": [
    {
     "data": {
      "text/plain": [
       "2537692459504"
      ]
     },
     "execution_count": 33,
     "metadata": {},
     "output_type": "execute_result"
    }
   ],
   "source": [
    "id(y)"
   ]
  },
  {
   "cell_type": "code",
   "execution_count": 34,
   "id": "7617ef97",
   "metadata": {},
   "outputs": [],
   "source": [
    "my_versity_name= 'JUST'"
   ]
  },
  {
   "cell_type": "code",
   "execution_count": 35,
   "id": "af8c44d0",
   "metadata": {},
   "outputs": [
    {
     "data": {
      "text/plain": [
       "'JUST'"
      ]
     },
     "execution_count": 35,
     "metadata": {},
     "output_type": "execute_result"
    }
   ],
   "source": [
    "my_versity_name"
   ]
  },
  {
   "cell_type": "code",
   "execution_count": 36,
   "id": "b48ab9a2",
   "metadata": {},
   "outputs": [],
   "source": [
    "x,y,z= 100,200,300"
   ]
  },
  {
   "cell_type": "code",
   "execution_count": 37,
   "id": "6216198d",
   "metadata": {},
   "outputs": [
    {
     "data": {
      "text/plain": [
       "600"
      ]
     },
     "execution_count": 37,
     "metadata": {},
     "output_type": "execute_result"
    }
   ],
   "source": [
    "x+y+z"
   ]
  },
  {
   "cell_type": "code",
   "execution_count": 38,
   "id": "32c7dbc9",
   "metadata": {},
   "outputs": [
    {
     "data": {
      "text/plain": [
       "100"
      ]
     },
     "execution_count": 38,
     "metadata": {},
     "output_type": "execute_result"
    }
   ],
   "source": [
    "x"
   ]
  },
  {
   "cell_type": "code",
   "execution_count": 39,
   "id": "cfacab3e",
   "metadata": {},
   "outputs": [
    {
     "data": {
      "text/plain": [
       "200"
      ]
     },
     "execution_count": 39,
     "metadata": {},
     "output_type": "execute_result"
    }
   ],
   "source": [
    "y"
   ]
  },
  {
   "cell_type": "code",
   "execution_count": 40,
   "id": "19edf60e",
   "metadata": {},
   "outputs": [
    {
     "data": {
      "text/plain": [
       "300"
      ]
     },
     "execution_count": 40,
     "metadata": {},
     "output_type": "execute_result"
    }
   ],
   "source": [
    "z"
   ]
  },
  {
   "cell_type": "code",
   "execution_count": 41,
   "id": "20a242b7",
   "metadata": {},
   "outputs": [
    {
     "name": "stdout",
     "output_type": "stream",
     "text": [
      "the sum is: 600         in number\n"
     ]
    }
   ],
   "source": [
    "print('the sum is:',x+y+z,'       ','in number')"
   ]
  },
  {
   "cell_type": "markdown",
   "id": "869b9f75",
   "metadata": {},
   "source": [
    "# Global and Local Variables"
   ]
  },
  {
   "cell_type": "code",
   "execution_count": 42,
   "id": "90959130",
   "metadata": {},
   "outputs": [
    {
     "name": "stdout",
     "output_type": "stream",
     "text": [
      "This is global1: 100\n",
      "This is global2: 100\n"
     ]
    }
   ],
   "source": [
    "x=100 #gobal\n",
    "\n",
    "def myfunction1():\n",
    "    print('This is global1:',x)\n",
    "    \n",
    "myfunction1()\n",
    "print('This is global2:',x)"
   ]
  },
  {
   "cell_type": "code",
   "execution_count": 43,
   "id": "f2727faf",
   "metadata": {},
   "outputs": [
    {
     "name": "stdout",
     "output_type": "stream",
     "text": [
      "this is 1: 15\n"
     ]
    }
   ],
   "source": [
    "def myfunction2():\n",
    "    var10 = 15 #local\n",
    "    print('this is 1:', var10)\n",
    "myfunction2()  "
   ]
  },
  {
   "cell_type": "code",
   "execution_count": 44,
   "id": "548c3f2e",
   "metadata": {},
   "outputs": [
    {
     "name": "stdout",
     "output_type": "stream",
     "text": [
      "This is 1: 15\n",
      "This is 2: 15\n",
      "This is 3: 100\n"
     ]
    }
   ],
   "source": [
    "def myfunction1():\n",
    "    global var10\n",
    "    var10 = 15 # global\n",
    "    print('This is 1:',var10)\n",
    "myfunction1()\n",
    "\n",
    "print('This is 2:',var10)\n",
    "x\n",
    "print('This is 3:',x)\n"
   ]
  },
  {
   "cell_type": "code",
   "execution_count": 45,
   "id": "c37c1048",
   "metadata": {},
   "outputs": [
    {
     "name": "stdout",
     "output_type": "stream",
     "text": [
      "This is 3: 100\n"
     ]
    }
   ],
   "source": [
    "x\n",
    "print('This is 3:',x)"
   ]
  },
  {
   "cell_type": "code",
   "execution_count": 46,
   "id": "a3355227",
   "metadata": {},
   "outputs": [
    {
     "data": {
      "text/plain": [
       "' I love data science'"
      ]
     },
     "execution_count": 46,
     "metadata": {},
     "output_type": "execute_result"
    }
   ],
   "source": [
    "data = ' I love data science'\n",
    "data"
   ]
  },
  {
   "cell_type": "code",
   "execution_count": 47,
   "id": "0a56f24a",
   "metadata": {},
   "outputs": [
    {
     "name": "stdout",
     "output_type": "stream",
     "text": [
      " I love data science\n"
     ]
    }
   ],
   "source": [
    "print(data)"
   ]
  },
  {
   "cell_type": "code",
   "execution_count": 48,
   "id": "81575c80",
   "metadata": {},
   "outputs": [
    {
     "name": "stdout",
     "output_type": "stream",
     "text": [
      "rakib ahmmed talukder\n"
     ]
    }
   ],
   "source": [
    "x = \"rakib\"\n",
    "y = \"ahmmed\"\n",
    "z = \"talukder\"\n",
    "xyz= print(x,y,z)\n",
    "xyz"
   ]
  },
  {
   "cell_type": "code",
   "execution_count": 49,
   "id": "8634094a",
   "metadata": {},
   "outputs": [
    {
     "data": {
      "text/plain": [
       "['I', 'love', 'data', 'science']"
      ]
     },
     "execution_count": 49,
     "metadata": {},
     "output_type": "execute_result"
    }
   ],
   "source": [
    "data.split()"
   ]
  },
  {
   "cell_type": "code",
   "execution_count": 50,
   "id": "8b10ef25",
   "metadata": {},
   "outputs": [
    {
     "data": {
      "text/plain": [
       "' I LOVE DATA SCIENCE'"
      ]
     },
     "execution_count": 50,
     "metadata": {},
     "output_type": "execute_result"
    }
   ],
   "source": [
    "data.upper()"
   ]
  },
  {
   "cell_type": "code",
   "execution_count": 51,
   "id": "f199a330",
   "metadata": {},
   "outputs": [
    {
     "data": {
      "text/plain": [
       "' i love data science'"
      ]
     },
     "execution_count": 51,
     "metadata": {},
     "output_type": "execute_result"
    }
   ],
   "source": [
    "data.lower()"
   ]
  },
  {
   "cell_type": "code",
   "execution_count": 52,
   "id": "40de1459",
   "metadata": {},
   "outputs": [
    {
     "name": "stdout",
     "output_type": "stream",
     "text": [
      " I LOVE DATA SCIENCE\n"
     ]
    }
   ],
   "source": [
    "print(data.upper())"
   ]
  },
  {
   "cell_type": "markdown",
   "id": "d9f8dc82",
   "metadata": {},
   "source": [
    "# if & else"
   ]
  },
  {
   "cell_type": "code",
   "execution_count": 53,
   "id": "0c9c4d58",
   "metadata": {},
   "outputs": [],
   "source": [
    "x = 10\n",
    "y = 200\n",
    "\n",
    "if x>y:\n",
    "    print('no')"
   ]
  },
  {
   "cell_type": "code",
   "execution_count": 54,
   "id": "3709a471",
   "metadata": {},
   "outputs": [
    {
     "name": "stdout",
     "output_type": "stream",
     "text": [
      "no\n"
     ]
    }
   ],
   "source": [
    "if y>x:\n",
    "    print('no')"
   ]
  },
  {
   "cell_type": "code",
   "execution_count": 55,
   "id": "29a6ecc2",
   "metadata": {},
   "outputs": [
    {
     "name": "stdout",
     "output_type": "stream",
     "text": [
      "enter the 1st number:20\n",
      "enter the 2nd number:\n",
      "no\n"
     ]
    }
   ],
   "source": [
    "x = input('enter the 1st number:')\n",
    "y = input('enter the 2nd number:')\n",
    "\n",
    "if x>y:\n",
    "    print('no')\n",
    "    \n",
    "elif x == y:\n",
    "    print('okay')\n",
    "    \n",
    "elif y>x:\n",
    "    print('sabbas')\n",
    "    \n",
    "else:\n",
    "    print('done')"
   ]
  },
  {
   "cell_type": "markdown",
   "id": "67d3a2de",
   "metadata": {},
   "source": [
    "# loop"
   ]
  },
  {
   "cell_type": "code",
   "execution_count": 56,
   "id": "e503713d",
   "metadata": {},
   "outputs": [
    {
     "name": "stdout",
     "output_type": "stream",
     "text": [
      "10\n",
      "20\n",
      "30\n"
     ]
    }
   ],
   "source": [
    "x=10,20,30\n",
    "for y in x:\n",
    "    print(y)\n",
    "    "
   ]
  },
  {
   "cell_type": "code",
   "execution_count": 57,
   "id": "d2afd06a",
   "metadata": {},
   "outputs": [
    {
     "name": "stdout",
     "output_type": "stream",
     "text": [
      "0\n",
      "1\n",
      "2\n",
      "3\n",
      "4\n",
      "5\n",
      "6\n",
      "7\n",
      "8\n",
      "9\n"
     ]
    }
   ],
   "source": [
    "for x in range(10):\n",
    "    print(x)\n"
   ]
  },
  {
   "cell_type": "code",
   "execution_count": 58,
   "id": "697b9b51",
   "metadata": {},
   "outputs": [
    {
     "name": "stdout",
     "output_type": "stream",
     "text": [
      "10\n",
      "11\n",
      "12\n",
      "13\n",
      "14\n",
      "15\n",
      "16\n",
      "17\n",
      "18\n"
     ]
    }
   ],
   "source": [
    "for x in range(10,19):\n",
    "    print(x)\n"
   ]
  },
  {
   "cell_type": "code",
   "execution_count": 59,
   "id": "142ba91c",
   "metadata": {},
   "outputs": [
    {
     "name": "stdout",
     "output_type": "stream",
     "text": [
      "10\n",
      "12\n",
      "14\n",
      "16\n",
      "18\n"
     ]
    }
   ],
   "source": [
    "for x in range(10,19,2):\n",
    "    print(x)"
   ]
  },
  {
   "cell_type": "code",
   "execution_count": 60,
   "id": "6d1729a2",
   "metadata": {},
   "outputs": [
    {
     "name": "stdout",
     "output_type": "stream",
     "text": [
      "This is 20 ml\n",
      "This is 22 ml\n",
      "This is 24 ml\n",
      "This is 26 ml\n",
      "This is 28 ml\n"
     ]
    }
   ],
   "source": [
    "for x in range(20,30,2):\n",
    "    print('This is',x,'ml')"
   ]
  },
  {
   "cell_type": "code",
   "execution_count": null,
   "id": "9bca2b74",
   "metadata": {},
   "outputs": [],
   "source": []
  }
 ],
 "metadata": {
  "kernelspec": {
   "display_name": "Python 3 (ipykernel)",
   "language": "python",
   "name": "python3"
  },
  "language_info": {
   "codemirror_mode": {
    "name": "ipython",
    "version": 3
   },
   "file_extension": ".py",
   "mimetype": "text/x-python",
   "name": "python",
   "nbconvert_exporter": "python",
   "pygments_lexer": "ipython3",
   "version": "3.9.12"
  }
 },
 "nbformat": 4,
 "nbformat_minor": 5
}
